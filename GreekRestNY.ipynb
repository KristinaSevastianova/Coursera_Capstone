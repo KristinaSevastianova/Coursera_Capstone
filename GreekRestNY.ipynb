{
 "cells": [
  {
   "cell_type": "code",
   "execution_count": 1,
   "metadata": {},
   "outputs": [
    {
     "name": "stdout",
     "output_type": "stream",
     "text": [
      "Collecting package metadata (current_repodata.json): done\n",
      "Solving environment: done\n",
      "\n",
      "# All requested packages already installed.\n",
      "\n",
      "Collecting package metadata (current_repodata.json): done\n",
      "Solving environment: done\n",
      "\n",
      "# All requested packages already installed.\n",
      "\n",
      "Folium installed\n",
      "Libraries imported.\n"
     ]
    }
   ],
   "source": [
    "import requests # library to handle requests\n",
    "import pandas as pd # library for data analsysis\n",
    "import numpy as np # library to handle data in a vectorized manner\n",
    "import random # library for random number generation\n",
    "\n",
    "!conda install -c conda-forge geopy --yes \n",
    "from geopy.geocoders import Nominatim # module to convert an address into latitude and longitude values\n",
    "\n",
    "# libraries for displaying images\n",
    "from IPython.display import Image \n",
    "from IPython.core.display import HTML \n",
    "    \n",
    "# tranforming json file into a pandas dataframe library\n",
    "from pandas.io.json import json_normalize\n",
    "\n",
    "!conda install -c conda-forge folium=0.5.0 --yes\n",
    "import folium # plotting library\n",
    "\n",
    "print('Folium installed')\n",
    "print('Libraries imported.')"
   ]
  },
  {
   "cell_type": "markdown",
   "metadata": {},
   "source": [
    "### Define Foursquare Credentials and Version"
   ]
  },
  {
   "cell_type": "code",
   "execution_count": 2,
   "metadata": {},
   "outputs": [
    {
     "name": "stdout",
     "output_type": "stream",
     "text": [
      "Your credentails:\n",
      "CLIENT_ID: C0PWVFTOTWSJ0V4CCDVKZOOB2ZNKWS21O2JHHQLFSFRUAXQI\n",
      "CLIENT_SECRET:LUWI2FWUHN2YRC5HCOYSF24R5JZNTOYTD3XBGSMDD1EC0P5I\n"
     ]
    }
   ],
   "source": [
    "CLIENT_ID = 'C0PWVFTOTWSJ0V4CCDVKZOOB2ZNKWS21O2JHHQLFSFRUAXQI' # your Foursquare ID\n",
    "CLIENT_SECRET = 'LUWI2FWUHN2YRC5HCOYSF24R5JZNTOYTD3XBGSMDD1EC0P5I' # your Foursquare Secret\n",
    "VERSION = '20180604'\n",
    "LIMIT = 30\n",
    "print('Your credentails:')\n",
    "print('CLIENT_ID: ' + CLIENT_ID)\n",
    "print('CLIENT_SECRET:' + CLIENT_SECRET)"
   ]
  },
  {
   "cell_type": "markdown",
   "metadata": {},
   "source": [
    "### Converting DZ Bank Building address to its latitude and longitude coordinates."
   ]
  },
  {
   "cell_type": "code",
   "execution_count": 3,
   "metadata": {},
   "outputs": [
    {
     "name": "stdout",
     "output_type": "stream",
     "text": [
      "40.7577093 -73.9775923\n"
     ]
    }
   ],
   "source": [
    "address = '609 5th Ave, New York, NY'\n",
    "\n",
    "geolocator = Nominatim(user_agent=\"foursquare_agent\")\n",
    "location = geolocator.geocode(address)\n",
    "latitude = location.latitude\n",
    "longitude = location.longitude\n",
    "print(latitude, longitude)"
   ]
  },
  {
   "cell_type": "markdown",
   "metadata": {},
   "source": [
    "### Define a query to search for Greek food that is within 500 metres from the DZ Bank Building"
   ]
  },
  {
   "cell_type": "code",
   "execution_count": 6,
   "metadata": {},
   "outputs": [
    {
     "name": "stdout",
     "output_type": "stream",
     "text": [
      "Greek .... OK!\n"
     ]
    }
   ],
   "source": [
    "search_query = 'Greek'\n",
    "radius = 500\n",
    "print(search_query + ' .... OK!')"
   ]
  },
  {
   "cell_type": "code",
   "execution_count": 7,
   "metadata": {},
   "outputs": [
    {
     "data": {
      "text/plain": [
       "'https://api.foursquare.com/v2/venues/search?client_id=C0PWVFTOTWSJ0V4CCDVKZOOB2ZNKWS21O2JHHQLFSFRUAXQI&client_secret=LUWI2FWUHN2YRC5HCOYSF24R5JZNTOYTD3XBGSMDD1EC0P5I&ll=40.7577093,-73.9775923&v=20180604&query=Greek&radius=500&limit=30'"
      ]
     },
     "execution_count": 7,
     "metadata": {},
     "output_type": "execute_result"
    }
   ],
   "source": [
    "url = 'https://api.foursquare.com/v2/venues/search?client_id={}&client_secret={}&ll={},{}&v={}&query={}&radius={}&limit={}'.format(CLIENT_ID, CLIENT_SECRET, latitude, longitude, VERSION, search_query, radius, LIMIT)\n",
    "url"
   ]
  },
  {
   "cell_type": "markdown",
   "metadata": {},
   "source": [
    "#### Send the GET Request and examine the results"
   ]
  },
  {
   "cell_type": "code",
   "execution_count": null,
   "metadata": {},
   "outputs": [],
   "source": [
    "results = requests.get(url).json()\n",
    "results"
   ]
  },
  {
   "cell_type": "code",
   "execution_count": 9,
   "metadata": {},
   "outputs": [
    {
     "name": "stderr",
     "output_type": "stream",
     "text": [
      "/home/jupyterlab/conda/envs/python/lib/python3.6/site-packages/ipykernel_launcher.py:5: FutureWarning: pandas.io.json.json_normalize is deprecated, use pandas.json_normalize instead\n",
      "  \"\"\"\n"
     ]
    },
    {
     "data": {
      "text/html": [
       "<div>\n",
       "<style scoped>\n",
       "    .dataframe tbody tr th:only-of-type {\n",
       "        vertical-align: middle;\n",
       "    }\n",
       "\n",
       "    .dataframe tbody tr th {\n",
       "        vertical-align: top;\n",
       "    }\n",
       "\n",
       "    .dataframe thead th {\n",
       "        text-align: right;\n",
       "    }\n",
       "</style>\n",
       "<table border=\"1\" class=\"dataframe\">\n",
       "  <thead>\n",
       "    <tr style=\"text-align: right;\">\n",
       "      <th></th>\n",
       "      <th>id</th>\n",
       "      <th>name</th>\n",
       "      <th>categories</th>\n",
       "      <th>referralId</th>\n",
       "      <th>hasPerk</th>\n",
       "      <th>location.address</th>\n",
       "      <th>location.crossStreet</th>\n",
       "      <th>location.lat</th>\n",
       "      <th>location.lng</th>\n",
       "      <th>location.labeledLatLngs</th>\n",
       "      <th>...</th>\n",
       "      <th>location.state</th>\n",
       "      <th>location.country</th>\n",
       "      <th>location.formattedAddress</th>\n",
       "      <th>delivery.id</th>\n",
       "      <th>delivery.url</th>\n",
       "      <th>delivery.provider.name</th>\n",
       "      <th>delivery.provider.icon.prefix</th>\n",
       "      <th>delivery.provider.icon.sizes</th>\n",
       "      <th>delivery.provider.icon.name</th>\n",
       "      <th>venuePage.id</th>\n",
       "    </tr>\n",
       "  </thead>\n",
       "  <tbody>\n",
       "    <tr>\n",
       "      <th>0</th>\n",
       "      <td>5414bab4498e79ad23ecce9b</td>\n",
       "      <td>GRK Fresh Greek</td>\n",
       "      <td>[{'id': '4bf58dd8d48988d10e941735', 'name': 'G...</td>\n",
       "      <td>v-1593680805</td>\n",
       "      <td>False</td>\n",
       "      <td>451 Lexington Ave</td>\n",
       "      <td>44th Street</td>\n",
       "      <td>40.753128</td>\n",
       "      <td>-73.974666</td>\n",
       "      <td>[{'label': 'display', 'lat': 40.753128, 'lng':...</td>\n",
       "      <td>...</td>\n",
       "      <td>NY</td>\n",
       "      <td>United States</td>\n",
       "      <td>[451 Lexington Ave (44th Street), New York, NY...</td>\n",
       "      <td>300304</td>\n",
       "      <td>https://www.seamless.com/menu/grk-fresh-greek-...</td>\n",
       "      <td>seamless</td>\n",
       "      <td>https://fastly.4sqi.net/img/general/cap/</td>\n",
       "      <td>[40, 50]</td>\n",
       "      <td>/delivery_provider_seamless_20180129.png</td>\n",
       "      <td>130322259</td>\n",
       "    </tr>\n",
       "    <tr>\n",
       "      <th>1</th>\n",
       "      <td>5ae8484cd7627e002cc4e055</td>\n",
       "      <td>Greek On 6 Ave</td>\n",
       "      <td>[{'id': '4bf58dd8d48988d1cb941735', 'name': 'F...</td>\n",
       "      <td>v-1593680805</td>\n",
       "      <td>False</td>\n",
       "      <td>NaN</td>\n",
       "      <td>NaN</td>\n",
       "      <td>40.759335</td>\n",
       "      <td>-73.981336</td>\n",
       "      <td>[{'label': 'display', 'lat': 40.75933511750253...</td>\n",
       "      <td>...</td>\n",
       "      <td>NY</td>\n",
       "      <td>United States</td>\n",
       "      <td>[New York, NY 10019, United States]</td>\n",
       "      <td>NaN</td>\n",
       "      <td>NaN</td>\n",
       "      <td>NaN</td>\n",
       "      <td>NaN</td>\n",
       "      <td>NaN</td>\n",
       "      <td>NaN</td>\n",
       "      <td>NaN</td>\n",
       "    </tr>\n",
       "    <tr>\n",
       "      <th>2</th>\n",
       "      <td>4c0fa77198102d7fa18ae506</td>\n",
       "      <td>Joannne's Amazing Greek Cart</td>\n",
       "      <td>[{'id': '4bf58dd8d48988d1cb941735', 'name': 'F...</td>\n",
       "      <td>v-1593680805</td>\n",
       "      <td>False</td>\n",
       "      <td>NaN</td>\n",
       "      <td>47th St &amp; Park Avenue</td>\n",
       "      <td>40.756834</td>\n",
       "      <td>-73.972084</td>\n",
       "      <td>[{'label': 'display', 'lat': 40.75683449877979...</td>\n",
       "      <td>...</td>\n",
       "      <td>NY</td>\n",
       "      <td>United States</td>\n",
       "      <td>[New York, NY, United States]</td>\n",
       "      <td>NaN</td>\n",
       "      <td>NaN</td>\n",
       "      <td>NaN</td>\n",
       "      <td>NaN</td>\n",
       "      <td>NaN</td>\n",
       "      <td>NaN</td>\n",
       "      <td>NaN</td>\n",
       "    </tr>\n",
       "  </tbody>\n",
       "</table>\n",
       "<p>3 rows × 24 columns</p>\n",
       "</div>"
      ],
      "text/plain": [
       "                         id                          name  \\\n",
       "0  5414bab4498e79ad23ecce9b               GRK Fresh Greek   \n",
       "1  5ae8484cd7627e002cc4e055                Greek On 6 Ave   \n",
       "2  4c0fa77198102d7fa18ae506  Joannne's Amazing Greek Cart   \n",
       "\n",
       "                                          categories    referralId  hasPerk  \\\n",
       "0  [{'id': '4bf58dd8d48988d10e941735', 'name': 'G...  v-1593680805    False   \n",
       "1  [{'id': '4bf58dd8d48988d1cb941735', 'name': 'F...  v-1593680805    False   \n",
       "2  [{'id': '4bf58dd8d48988d1cb941735', 'name': 'F...  v-1593680805    False   \n",
       "\n",
       "    location.address   location.crossStreet  location.lat  location.lng  \\\n",
       "0  451 Lexington Ave            44th Street     40.753128    -73.974666   \n",
       "1                NaN                    NaN     40.759335    -73.981336   \n",
       "2                NaN  47th St & Park Avenue     40.756834    -73.972084   \n",
       "\n",
       "                             location.labeledLatLngs  ...  location.state  \\\n",
       "0  [{'label': 'display', 'lat': 40.753128, 'lng':...  ...              NY   \n",
       "1  [{'label': 'display', 'lat': 40.75933511750253...  ...              NY   \n",
       "2  [{'label': 'display', 'lat': 40.75683449877979...  ...              NY   \n",
       "\n",
       "  location.country                          location.formattedAddress  \\\n",
       "0    United States  [451 Lexington Ave (44th Street), New York, NY...   \n",
       "1    United States                [New York, NY 10019, United States]   \n",
       "2    United States                      [New York, NY, United States]   \n",
       "\n",
       "  delivery.id                                       delivery.url  \\\n",
       "0      300304  https://www.seamless.com/menu/grk-fresh-greek-...   \n",
       "1         NaN                                                NaN   \n",
       "2         NaN                                                NaN   \n",
       "\n",
       "  delivery.provider.name             delivery.provider.icon.prefix  \\\n",
       "0               seamless  https://fastly.4sqi.net/img/general/cap/   \n",
       "1                    NaN                                       NaN   \n",
       "2                    NaN                                       NaN   \n",
       "\n",
       "  delivery.provider.icon.sizes               delivery.provider.icon.name  \\\n",
       "0                     [40, 50]  /delivery_provider_seamless_20180129.png   \n",
       "1                          NaN                                       NaN   \n",
       "2                          NaN                                       NaN   \n",
       "\n",
       "  venuePage.id  \n",
       "0    130322259  \n",
       "1          NaN  \n",
       "2          NaN  \n",
       "\n",
       "[3 rows x 24 columns]"
      ]
     },
     "execution_count": 9,
     "metadata": {},
     "output_type": "execute_result"
    }
   ],
   "source": [
    "# assign relevant part of JSON to venues\n",
    "venues = results['response']['venues']\n",
    "\n",
    "# tranform venues into a dataframe\n",
    "dataframe = json_normalize(venues)\n",
    "dataframe.head()"
   ]
  },
  {
   "cell_type": "code",
   "execution_count": 10,
   "metadata": {},
   "outputs": [
    {
     "data": {
      "text/html": [
       "<div>\n",
       "<style scoped>\n",
       "    .dataframe tbody tr th:only-of-type {\n",
       "        vertical-align: middle;\n",
       "    }\n",
       "\n",
       "    .dataframe tbody tr th {\n",
       "        vertical-align: top;\n",
       "    }\n",
       "\n",
       "    .dataframe thead th {\n",
       "        text-align: right;\n",
       "    }\n",
       "</style>\n",
       "<table border=\"1\" class=\"dataframe\">\n",
       "  <thead>\n",
       "    <tr style=\"text-align: right;\">\n",
       "      <th></th>\n",
       "      <th>name</th>\n",
       "      <th>categories</th>\n",
       "      <th>address</th>\n",
       "      <th>crossStreet</th>\n",
       "      <th>lat</th>\n",
       "      <th>lng</th>\n",
       "      <th>labeledLatLngs</th>\n",
       "      <th>distance</th>\n",
       "      <th>postalCode</th>\n",
       "      <th>cc</th>\n",
       "      <th>city</th>\n",
       "      <th>state</th>\n",
       "      <th>country</th>\n",
       "      <th>formattedAddress</th>\n",
       "      <th>id</th>\n",
       "    </tr>\n",
       "  </thead>\n",
       "  <tbody>\n",
       "    <tr>\n",
       "      <th>0</th>\n",
       "      <td>GRK Fresh Greek</td>\n",
       "      <td>Greek Restaurant</td>\n",
       "      <td>451 Lexington Ave</td>\n",
       "      <td>44th Street</td>\n",
       "      <td>40.753128</td>\n",
       "      <td>-73.974666</td>\n",
       "      <td>[{'label': 'display', 'lat': 40.753128, 'lng':...</td>\n",
       "      <td>566</td>\n",
       "      <td>10017</td>\n",
       "      <td>US</td>\n",
       "      <td>New York</td>\n",
       "      <td>NY</td>\n",
       "      <td>United States</td>\n",
       "      <td>[451 Lexington Ave (44th Street), New York, NY...</td>\n",
       "      <td>5414bab4498e79ad23ecce9b</td>\n",
       "    </tr>\n",
       "    <tr>\n",
       "      <th>1</th>\n",
       "      <td>Greek On 6 Ave</td>\n",
       "      <td>Food Truck</td>\n",
       "      <td>NaN</td>\n",
       "      <td>NaN</td>\n",
       "      <td>40.759335</td>\n",
       "      <td>-73.981336</td>\n",
       "      <td>[{'label': 'display', 'lat': 40.75933511750253...</td>\n",
       "      <td>363</td>\n",
       "      <td>10019</td>\n",
       "      <td>US</td>\n",
       "      <td>New York</td>\n",
       "      <td>NY</td>\n",
       "      <td>United States</td>\n",
       "      <td>[New York, NY 10019, United States]</td>\n",
       "      <td>5ae8484cd7627e002cc4e055</td>\n",
       "    </tr>\n",
       "    <tr>\n",
       "      <th>2</th>\n",
       "      <td>Joannne's Amazing Greek Cart</td>\n",
       "      <td>Food Truck</td>\n",
       "      <td>NaN</td>\n",
       "      <td>47th St &amp; Park Avenue</td>\n",
       "      <td>40.756834</td>\n",
       "      <td>-73.972084</td>\n",
       "      <td>[{'label': 'display', 'lat': 40.75683449877979...</td>\n",
       "      <td>474</td>\n",
       "      <td>NaN</td>\n",
       "      <td>US</td>\n",
       "      <td>New York</td>\n",
       "      <td>NY</td>\n",
       "      <td>United States</td>\n",
       "      <td>[New York, NY, United States]</td>\n",
       "      <td>4c0fa77198102d7fa18ae506</td>\n",
       "    </tr>\n",
       "  </tbody>\n",
       "</table>\n",
       "</div>"
      ],
      "text/plain": [
       "                           name        categories            address  \\\n",
       "0               GRK Fresh Greek  Greek Restaurant  451 Lexington Ave   \n",
       "1                Greek On 6 Ave        Food Truck                NaN   \n",
       "2  Joannne's Amazing Greek Cart        Food Truck                NaN   \n",
       "\n",
       "             crossStreet        lat        lng  \\\n",
       "0            44th Street  40.753128 -73.974666   \n",
       "1                    NaN  40.759335 -73.981336   \n",
       "2  47th St & Park Avenue  40.756834 -73.972084   \n",
       "\n",
       "                                      labeledLatLngs  distance postalCode  cc  \\\n",
       "0  [{'label': 'display', 'lat': 40.753128, 'lng':...       566      10017  US   \n",
       "1  [{'label': 'display', 'lat': 40.75933511750253...       363      10019  US   \n",
       "2  [{'label': 'display', 'lat': 40.75683449877979...       474        NaN  US   \n",
       "\n",
       "       city state        country  \\\n",
       "0  New York    NY  United States   \n",
       "1  New York    NY  United States   \n",
       "2  New York    NY  United States   \n",
       "\n",
       "                                    formattedAddress                        id  \n",
       "0  [451 Lexington Ave (44th Street), New York, NY...  5414bab4498e79ad23ecce9b  \n",
       "1                [New York, NY 10019, United States]  5ae8484cd7627e002cc4e055  \n",
       "2                      [New York, NY, United States]  4c0fa77198102d7fa18ae506  "
      ]
     },
     "execution_count": 10,
     "metadata": {},
     "output_type": "execute_result"
    }
   ],
   "source": [
    "# keep only columns that include venue name, and anything that is associated with location\n",
    "filtered_columns = ['name', 'categories'] + [col for col in dataframe.columns if col.startswith('location.')] + ['id']\n",
    "dataframe_filtered = dataframe.loc[:, filtered_columns]\n",
    "\n",
    "# function that extracts the category of the venue\n",
    "def get_category_type(row):\n",
    "    try:\n",
    "        categories_list = row['categories']\n",
    "    except:\n",
    "        categories_list = row['venue.categories']\n",
    "        \n",
    "    if len(categories_list) == 0:\n",
    "        return None\n",
    "    else:\n",
    "        return categories_list[0]['name']\n",
    "\n",
    "# filter the category for each row\n",
    "dataframe_filtered['categories'] = dataframe_filtered.apply(get_category_type, axis=1)\n",
    "\n",
    "# clean column names by keeping only last term\n",
    "dataframe_filtered.columns = [column.split('.')[-1] for column in dataframe_filtered.columns]\n",
    "\n",
    "dataframe_filtered"
   ]
  },
  {
   "cell_type": "code",
   "execution_count": 11,
   "metadata": {},
   "outputs": [
    {
     "data": {
      "text/plain": [
       "0                 GRK Fresh Greek\n",
       "1                  Greek On 6 Ave\n",
       "2    Joannne's Amazing Greek Cart\n",
       "Name: name, dtype: object"
      ]
     },
     "execution_count": 11,
     "metadata": {},
     "output_type": "execute_result"
    }
   ],
   "source": [
    "dataframe_filtered.name"
   ]
  },
  {
   "cell_type": "markdown",
   "metadata": {},
   "source": [
    "### Let's visualize the Greek restaurants that are nearby"
   ]
  },
  {
   "cell_type": "code",
   "execution_count": 12,
   "metadata": {},
   "outputs": [
    {
     "data": {
      "text/html": [
       "<div style=\"width:100%;\"><div style=\"position:relative;width:100%;height:0;padding-bottom:60%;\"><span style=\"color:#565656\">Make this Notebook Trusted to load map: File -> Trust Notebook</span><iframe src=\"about:blank\" style=\"position:absolute;width:100%;height:100%;left:0;top:0;border:none !important;\" data-html=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 onload=\"this.contentDocument.open();this.contentDocument.write(atob(this.getAttribute('data-html')));this.contentDocument.close();\" allowfullscreen webkitallowfullscreen mozallowfullscreen></iframe></div></div>"
      ],
      "text/plain": [
       "<folium.folium.Map at 0x7fdff381c278>"
      ]
     },
     "execution_count": 12,
     "metadata": {},
     "output_type": "execute_result"
    }
   ],
   "source": [
    "venues_map = folium.Map(location=[latitude, longitude], zoom_start=13) # generate map centred around the Conrad Hotel\n",
    "\n",
    "# add a red circle marker to represent the DZ Bank Building\n",
    "folium.features.CircleMarker(\n",
    "    [latitude, longitude],\n",
    "    radius=10,\n",
    "    color='red',\n",
    "    popup='Conrad Hotel',\n",
    "    fill = True,\n",
    "    fill_color = 'red',\n",
    "    fill_opacity = 0.6\n",
    ").add_to(venues_map)\n",
    "\n",
    "# add the Greek restaurants as blue circle markers\n",
    "for lat, lng, label in zip(dataframe_filtered.lat, dataframe_filtered.lng, dataframe_filtered.categories):\n",
    "    folium.features.CircleMarker(\n",
    "        [lat, lng],\n",
    "        radius=5,\n",
    "        color='blue',\n",
    "        popup=label,\n",
    "        fill = True,\n",
    "        fill_color='blue',\n",
    "        fill_opacity=0.6\n",
    "    ).add_to(venues_map)\n",
    "\n",
    "# display map\n",
    "venues_map"
   ]
  },
  {
   "cell_type": "markdown",
   "metadata": {},
   "source": [
    "### Get the venue's overall rating"
   ]
  },
  {
   "cell_type": "code",
   "execution_count": 19,
   "metadata": {},
   "outputs": [
    {
     "name": "stdout",
     "output_type": "stream",
     "text": [
      "7.3\n"
     ]
    }
   ],
   "source": [
    "venue_id = '5414bab4498e79ad23ecce9b' # ID of GRK Fresh Greek Restaurant\n",
    "url = 'https://api.foursquare.com/v2/venues/{}?client_id={}&client_secret={}&v={}'.format(venue_id, CLIENT_ID, CLIENT_SECRET, VERSION)\n",
    "\n",
    "result = requests.get(url).json()\n",
    "try:\n",
    "    print(result['response']['venue']['rating'])\n",
    "except:\n",
    "    print('This venue has not been rated yet.')"
   ]
  },
  {
   "cell_type": "code",
   "execution_count": 16,
   "metadata": {},
   "outputs": [
    {
     "name": "stdout",
     "output_type": "stream",
     "text": [
      "This venue has not been rated yet.\n"
     ]
    }
   ],
   "source": [
    "venue_id = '5ae8484cd7627e002cc4e055' # ID of Greek On 6 Ave Greek Restaurant\n",
    "url = 'https://api.foursquare.com/v2/venues/{}?client_id={}&client_secret={}&v={}'.format(venue_id, CLIENT_ID, CLIENT_SECRET, VERSION)\n",
    "\n",
    "result = requests.get(url).json()\n",
    "try:\n",
    "    print(result['response']['venue']['rating'])\n",
    "except:\n",
    "    print('This venue has not been rated yet.')"
   ]
  },
  {
   "cell_type": "code",
   "execution_count": 17,
   "metadata": {},
   "outputs": [
    {
     "name": "stdout",
     "output_type": "stream",
     "text": [
      "This venue has not been rated yet.\n"
     ]
    }
   ],
   "source": [
    "venue_id = '4c0fa77198102d7fa18ae506' # ID of Joannne's Amazing Greek Cart Restaurant\n",
    "url = 'https://api.foursquare.com/v2/venues/{}?client_id={}&client_secret={}&v={}'.format(venue_id, CLIENT_ID, CLIENT_SECRET, VERSION)\n",
    "\n",
    "result = requests.get(url).json()\n",
    "try:\n",
    "    print(result['response']['venue']['rating'])\n",
    "except:\n",
    "    print('This venue has not been rated yet.')"
   ]
  },
  {
   "cell_type": "markdown",
   "metadata": {},
   "source": [
    "### Converting Heffner Agency address to its latitude and longitude coordinates."
   ]
  },
  {
   "cell_type": "code",
   "execution_count": 22,
   "metadata": {},
   "outputs": [
    {
     "name": "stdout",
     "output_type": "stream",
     "text": [
      "40.707021850000004 -74.00966692266792\n"
     ]
    }
   ],
   "source": [
    "address = '40 Wall St, New York, NY'\n",
    "\n",
    "geolocator = Nominatim(user_agent=\"foursquare_agent\")\n",
    "location = geolocator.geocode(address)\n",
    "latitude = location.latitude\n",
    "longitude = location.longitude\n",
    "print(latitude, longitude)"
   ]
  },
  {
   "cell_type": "markdown",
   "metadata": {},
   "source": [
    "### Define a query to search for Greek food that is within 500 metres from the Heffner Agency"
   ]
  },
  {
   "cell_type": "code",
   "execution_count": 23,
   "metadata": {},
   "outputs": [
    {
     "name": "stdout",
     "output_type": "stream",
     "text": [
      "Greek .... OK!\n"
     ]
    }
   ],
   "source": [
    "search_query = 'Greek'\n",
    "radius = 500\n",
    "print(search_query + ' .... OK!')"
   ]
  },
  {
   "cell_type": "code",
   "execution_count": 24,
   "metadata": {},
   "outputs": [
    {
     "data": {
      "text/plain": [
       "'https://api.foursquare.com/v2/venues/search?client_id=C0PWVFTOTWSJ0V4CCDVKZOOB2ZNKWS21O2JHHQLFSFRUAXQI&client_secret=LUWI2FWUHN2YRC5HCOYSF24R5JZNTOYTD3XBGSMDD1EC0P5I&ll=40.707021850000004,-74.00966692266792&v=20180604&query=Greek&radius=500&limit=30'"
      ]
     },
     "execution_count": 24,
     "metadata": {},
     "output_type": "execute_result"
    }
   ],
   "source": [
    "url = 'https://api.foursquare.com/v2/venues/search?client_id={}&client_secret={}&ll={},{}&v={}&query={}&radius={}&limit={}'.format(CLIENT_ID, CLIENT_SECRET, latitude, longitude, VERSION, search_query, radius, LIMIT)\n",
    "url"
   ]
  },
  {
   "cell_type": "markdown",
   "metadata": {},
   "source": [
    "#### Send the GET Request and examine the results"
   ]
  },
  {
   "cell_type": "code",
   "execution_count": null,
   "metadata": {},
   "outputs": [],
   "source": [
    "results = requests.get(url).json()\n",
    "results"
   ]
  },
  {
   "cell_type": "code",
   "execution_count": 26,
   "metadata": {},
   "outputs": [
    {
     "name": "stderr",
     "output_type": "stream",
     "text": [
      "/home/jupyterlab/conda/envs/python/lib/python3.6/site-packages/ipykernel_launcher.py:5: FutureWarning: pandas.io.json.json_normalize is deprecated, use pandas.json_normalize instead\n",
      "  \"\"\"\n"
     ]
    },
    {
     "data": {
      "text/html": [
       "<div>\n",
       "<style scoped>\n",
       "    .dataframe tbody tr th:only-of-type {\n",
       "        vertical-align: middle;\n",
       "    }\n",
       "\n",
       "    .dataframe tbody tr th {\n",
       "        vertical-align: top;\n",
       "    }\n",
       "\n",
       "    .dataframe thead th {\n",
       "        text-align: right;\n",
       "    }\n",
       "</style>\n",
       "<table border=\"1\" class=\"dataframe\">\n",
       "  <thead>\n",
       "    <tr style=\"text-align: right;\">\n",
       "      <th></th>\n",
       "      <th>id</th>\n",
       "      <th>name</th>\n",
       "      <th>categories</th>\n",
       "      <th>referralId</th>\n",
       "      <th>hasPerk</th>\n",
       "      <th>location.address</th>\n",
       "      <th>location.crossStreet</th>\n",
       "      <th>location.lat</th>\n",
       "      <th>location.lng</th>\n",
       "      <th>location.labeledLatLngs</th>\n",
       "      <th>...</th>\n",
       "      <th>location.state</th>\n",
       "      <th>location.country</th>\n",
       "      <th>location.formattedAddress</th>\n",
       "      <th>delivery.id</th>\n",
       "      <th>delivery.url</th>\n",
       "      <th>delivery.provider.name</th>\n",
       "      <th>delivery.provider.icon.prefix</th>\n",
       "      <th>delivery.provider.icon.sizes</th>\n",
       "      <th>delivery.provider.icon.name</th>\n",
       "      <th>venuePage.id</th>\n",
       "    </tr>\n",
       "  </thead>\n",
       "  <tbody>\n",
       "    <tr>\n",
       "      <th>0</th>\n",
       "      <td>5047c785e4b0bcc0f416cdb3</td>\n",
       "      <td>GRK Fresh Greek - Financial District</td>\n",
       "      <td>[{'id': '4bf58dd8d48988d10e941735', 'name': 'G...</td>\n",
       "      <td>v-1593681616</td>\n",
       "      <td>False</td>\n",
       "      <td>111 Fulton St</td>\n",
       "      <td>at Dutch St</td>\n",
       "      <td>40.709800</td>\n",
       "      <td>-74.007011</td>\n",
       "      <td>[{'label': 'display', 'lat': 40.7097995488229,...</td>\n",
       "      <td>...</td>\n",
       "      <td>NY</td>\n",
       "      <td>United States</td>\n",
       "      <td>[111 Fulton St (at Dutch St), New York, NY 100...</td>\n",
       "      <td>301348</td>\n",
       "      <td>https://www.seamless.com/menu/grk-fresh-greek-...</td>\n",
       "      <td>seamless</td>\n",
       "      <td>https://fastly.4sqi.net/img/general/cap/</td>\n",
       "      <td>[40, 50]</td>\n",
       "      <td>/delivery_provider_seamless_20180129.png</td>\n",
       "      <td>45901352</td>\n",
       "    </tr>\n",
       "    <tr>\n",
       "      <th>1</th>\n",
       "      <td>4e00db2222717718d39ea62f</td>\n",
       "      <td>Ehhnviko Greek Cart</td>\n",
       "      <td>[]</td>\n",
       "      <td>v-1593681616</td>\n",
       "      <td>False</td>\n",
       "      <td>Wall Street</td>\n",
       "      <td>William</td>\n",
       "      <td>40.706771</td>\n",
       "      <td>-74.010098</td>\n",
       "      <td>[{'label': 'display', 'lat': 40.70677067580161...</td>\n",
       "      <td>...</td>\n",
       "      <td>NY</td>\n",
       "      <td>United States</td>\n",
       "      <td>[Wall Street (William), New York, NY 10005, Un...</td>\n",
       "      <td>NaN</td>\n",
       "      <td>NaN</td>\n",
       "      <td>NaN</td>\n",
       "      <td>NaN</td>\n",
       "      <td>NaN</td>\n",
       "      <td>NaN</td>\n",
       "      <td>NaN</td>\n",
       "    </tr>\n",
       "    <tr>\n",
       "      <th>2</th>\n",
       "      <td>5c1be093121384002c345bbf</td>\n",
       "      <td>Greek From Greece (GFG)</td>\n",
       "      <td>[{'id': '4bf58dd8d48988d16a941735', 'name': 'B...</td>\n",
       "      <td>v-1593681616</td>\n",
       "      <td>False</td>\n",
       "      <td>Broadway</td>\n",
       "      <td>Morris St</td>\n",
       "      <td>40.705935</td>\n",
       "      <td>-74.013091</td>\n",
       "      <td>[{'label': 'display', 'lat': 40.705935, 'lng':...</td>\n",
       "      <td>...</td>\n",
       "      <td>NY</td>\n",
       "      <td>United States</td>\n",
       "      <td>[Broadway (Morris St), New York, NY 10004, Uni...</td>\n",
       "      <td>NaN</td>\n",
       "      <td>NaN</td>\n",
       "      <td>NaN</td>\n",
       "      <td>NaN</td>\n",
       "      <td>NaN</td>\n",
       "      <td>NaN</td>\n",
       "      <td>NaN</td>\n",
       "    </tr>\n",
       "    <tr>\n",
       "      <th>3</th>\n",
       "      <td>57ea9dab498e634b49d5663f</td>\n",
       "      <td>Saint Nicholas Greek Orthodox Church and Natio...</td>\n",
       "      <td>[{'id': '4bf58dd8d48988d132941735', 'name': 'C...</td>\n",
       "      <td>v-1593681616</td>\n",
       "      <td>False</td>\n",
       "      <td>130 Liberty St</td>\n",
       "      <td>NaN</td>\n",
       "      <td>40.710384</td>\n",
       "      <td>-74.014030</td>\n",
       "      <td>[{'label': 'display', 'lat': 40.71038436889648...</td>\n",
       "      <td>...</td>\n",
       "      <td>NY</td>\n",
       "      <td>United States</td>\n",
       "      <td>[130 Liberty St, New York, NY 10006, United St...</td>\n",
       "      <td>NaN</td>\n",
       "      <td>NaN</td>\n",
       "      <td>NaN</td>\n",
       "      <td>NaN</td>\n",
       "      <td>NaN</td>\n",
       "      <td>NaN</td>\n",
       "      <td>NaN</td>\n",
       "    </tr>\n",
       "    <tr>\n",
       "      <th>4</th>\n",
       "      <td>5823d69af2c98b32f07ac65a</td>\n",
       "      <td>11 Hanover Greek</td>\n",
       "      <td>[{'id': '4bf58dd8d48988d10e941735', 'name': 'G...</td>\n",
       "      <td>v-1593681616</td>\n",
       "      <td>False</td>\n",
       "      <td>11 Hanover Sq</td>\n",
       "      <td>NaN</td>\n",
       "      <td>40.705171</td>\n",
       "      <td>-74.009034</td>\n",
       "      <td>[{'label': 'display', 'lat': 40.70517082398631...</td>\n",
       "      <td>...</td>\n",
       "      <td>NY</td>\n",
       "      <td>United States</td>\n",
       "      <td>[11 Hanover Sq, New York, NY 10005, United Sta...</td>\n",
       "      <td>NaN</td>\n",
       "      <td>NaN</td>\n",
       "      <td>NaN</td>\n",
       "      <td>NaN</td>\n",
       "      <td>NaN</td>\n",
       "      <td>NaN</td>\n",
       "      <td>NaN</td>\n",
       "    </tr>\n",
       "  </tbody>\n",
       "</table>\n",
       "<p>5 rows × 24 columns</p>\n",
       "</div>"
      ],
      "text/plain": [
       "                         id  \\\n",
       "0  5047c785e4b0bcc0f416cdb3   \n",
       "1  4e00db2222717718d39ea62f   \n",
       "2  5c1be093121384002c345bbf   \n",
       "3  57ea9dab498e634b49d5663f   \n",
       "4  5823d69af2c98b32f07ac65a   \n",
       "\n",
       "                                                name  \\\n",
       "0               GRK Fresh Greek - Financial District   \n",
       "1                                Ehhnviko Greek Cart   \n",
       "2                            Greek From Greece (GFG)   \n",
       "3  Saint Nicholas Greek Orthodox Church and Natio...   \n",
       "4                                   11 Hanover Greek   \n",
       "\n",
       "                                          categories    referralId  hasPerk  \\\n",
       "0  [{'id': '4bf58dd8d48988d10e941735', 'name': 'G...  v-1593681616    False   \n",
       "1                                                 []  v-1593681616    False   \n",
       "2  [{'id': '4bf58dd8d48988d16a941735', 'name': 'B...  v-1593681616    False   \n",
       "3  [{'id': '4bf58dd8d48988d132941735', 'name': 'C...  v-1593681616    False   \n",
       "4  [{'id': '4bf58dd8d48988d10e941735', 'name': 'G...  v-1593681616    False   \n",
       "\n",
       "  location.address location.crossStreet  location.lat  location.lng  \\\n",
       "0    111 Fulton St          at Dutch St     40.709800    -74.007011   \n",
       "1      Wall Street              William     40.706771    -74.010098   \n",
       "2         Broadway            Morris St     40.705935    -74.013091   \n",
       "3   130 Liberty St                  NaN     40.710384    -74.014030   \n",
       "4    11 Hanover Sq                  NaN     40.705171    -74.009034   \n",
       "\n",
       "                             location.labeledLatLngs  ...  location.state  \\\n",
       "0  [{'label': 'display', 'lat': 40.7097995488229,...  ...              NY   \n",
       "1  [{'label': 'display', 'lat': 40.70677067580161...  ...              NY   \n",
       "2  [{'label': 'display', 'lat': 40.705935, 'lng':...  ...              NY   \n",
       "3  [{'label': 'display', 'lat': 40.71038436889648...  ...              NY   \n",
       "4  [{'label': 'display', 'lat': 40.70517082398631...  ...              NY   \n",
       "\n",
       "  location.country                          location.formattedAddress  \\\n",
       "0    United States  [111 Fulton St (at Dutch St), New York, NY 100...   \n",
       "1    United States  [Wall Street (William), New York, NY 10005, Un...   \n",
       "2    United States  [Broadway (Morris St), New York, NY 10004, Uni...   \n",
       "3    United States  [130 Liberty St, New York, NY 10006, United St...   \n",
       "4    United States  [11 Hanover Sq, New York, NY 10005, United Sta...   \n",
       "\n",
       "  delivery.id                                       delivery.url  \\\n",
       "0      301348  https://www.seamless.com/menu/grk-fresh-greek-...   \n",
       "1         NaN                                                NaN   \n",
       "2         NaN                                                NaN   \n",
       "3         NaN                                                NaN   \n",
       "4         NaN                                                NaN   \n",
       "\n",
       "  delivery.provider.name             delivery.provider.icon.prefix  \\\n",
       "0               seamless  https://fastly.4sqi.net/img/general/cap/   \n",
       "1                    NaN                                       NaN   \n",
       "2                    NaN                                       NaN   \n",
       "3                    NaN                                       NaN   \n",
       "4                    NaN                                       NaN   \n",
       "\n",
       "  delivery.provider.icon.sizes               delivery.provider.icon.name  \\\n",
       "0                     [40, 50]  /delivery_provider_seamless_20180129.png   \n",
       "1                          NaN                                       NaN   \n",
       "2                          NaN                                       NaN   \n",
       "3                          NaN                                       NaN   \n",
       "4                          NaN                                       NaN   \n",
       "\n",
       "  venuePage.id  \n",
       "0     45901352  \n",
       "1          NaN  \n",
       "2          NaN  \n",
       "3          NaN  \n",
       "4          NaN  \n",
       "\n",
       "[5 rows x 24 columns]"
      ]
     },
     "execution_count": 26,
     "metadata": {},
     "output_type": "execute_result"
    }
   ],
   "source": [
    "# assign relevant part of JSON to venues\n",
    "venues = results['response']['venues']\n",
    "\n",
    "# tranform venues into a dataframe\n",
    "dataframe = json_normalize(venues)\n",
    "dataframe.head()"
   ]
  },
  {
   "cell_type": "code",
   "execution_count": 27,
   "metadata": {},
   "outputs": [
    {
     "data": {
      "text/html": [
       "<div>\n",
       "<style scoped>\n",
       "    .dataframe tbody tr th:only-of-type {\n",
       "        vertical-align: middle;\n",
       "    }\n",
       "\n",
       "    .dataframe tbody tr th {\n",
       "        vertical-align: top;\n",
       "    }\n",
       "\n",
       "    .dataframe thead th {\n",
       "        text-align: right;\n",
       "    }\n",
       "</style>\n",
       "<table border=\"1\" class=\"dataframe\">\n",
       "  <thead>\n",
       "    <tr style=\"text-align: right;\">\n",
       "      <th></th>\n",
       "      <th>name</th>\n",
       "      <th>categories</th>\n",
       "      <th>address</th>\n",
       "      <th>crossStreet</th>\n",
       "      <th>lat</th>\n",
       "      <th>lng</th>\n",
       "      <th>labeledLatLngs</th>\n",
       "      <th>distance</th>\n",
       "      <th>postalCode</th>\n",
       "      <th>cc</th>\n",
       "      <th>city</th>\n",
       "      <th>state</th>\n",
       "      <th>country</th>\n",
       "      <th>formattedAddress</th>\n",
       "      <th>id</th>\n",
       "    </tr>\n",
       "  </thead>\n",
       "  <tbody>\n",
       "    <tr>\n",
       "      <th>0</th>\n",
       "      <td>GRK Fresh Greek - Financial District</td>\n",
       "      <td>Greek Restaurant</td>\n",
       "      <td>111 Fulton St</td>\n",
       "      <td>at Dutch St</td>\n",
       "      <td>40.709800</td>\n",
       "      <td>-74.007011</td>\n",
       "      <td>[{'label': 'display', 'lat': 40.7097995488229,...</td>\n",
       "      <td>381</td>\n",
       "      <td>10038</td>\n",
       "      <td>US</td>\n",
       "      <td>New York</td>\n",
       "      <td>NY</td>\n",
       "      <td>United States</td>\n",
       "      <td>[111 Fulton St (at Dutch St), New York, NY 100...</td>\n",
       "      <td>5047c785e4b0bcc0f416cdb3</td>\n",
       "    </tr>\n",
       "    <tr>\n",
       "      <th>1</th>\n",
       "      <td>Ehhnviko Greek Cart</td>\n",
       "      <td>None</td>\n",
       "      <td>Wall Street</td>\n",
       "      <td>William</td>\n",
       "      <td>40.706771</td>\n",
       "      <td>-74.010098</td>\n",
       "      <td>[{'label': 'display', 'lat': 40.70677067580161...</td>\n",
       "      <td>45</td>\n",
       "      <td>10005</td>\n",
       "      <td>US</td>\n",
       "      <td>New York</td>\n",
       "      <td>NY</td>\n",
       "      <td>United States</td>\n",
       "      <td>[Wall Street (William), New York, NY 10005, Un...</td>\n",
       "      <td>4e00db2222717718d39ea62f</td>\n",
       "    </tr>\n",
       "    <tr>\n",
       "      <th>2</th>\n",
       "      <td>Greek From Greece (GFG)</td>\n",
       "      <td>Bakery</td>\n",
       "      <td>Broadway</td>\n",
       "      <td>Morris St</td>\n",
       "      <td>40.705935</td>\n",
       "      <td>-74.013091</td>\n",
       "      <td>[{'label': 'display', 'lat': 40.705935, 'lng':...</td>\n",
       "      <td>313</td>\n",
       "      <td>10004</td>\n",
       "      <td>US</td>\n",
       "      <td>New York</td>\n",
       "      <td>NY</td>\n",
       "      <td>United States</td>\n",
       "      <td>[Broadway (Morris St), New York, NY 10004, Uni...</td>\n",
       "      <td>5c1be093121384002c345bbf</td>\n",
       "    </tr>\n",
       "    <tr>\n",
       "      <th>3</th>\n",
       "      <td>Saint Nicholas Greek Orthodox Church and Natio...</td>\n",
       "      <td>Church</td>\n",
       "      <td>130 Liberty St</td>\n",
       "      <td>NaN</td>\n",
       "      <td>40.710384</td>\n",
       "      <td>-74.014030</td>\n",
       "      <td>[{'label': 'display', 'lat': 40.71038436889648...</td>\n",
       "      <td>525</td>\n",
       "      <td>10006</td>\n",
       "      <td>US</td>\n",
       "      <td>New York</td>\n",
       "      <td>NY</td>\n",
       "      <td>United States</td>\n",
       "      <td>[130 Liberty St, New York, NY 10006, United St...</td>\n",
       "      <td>57ea9dab498e634b49d5663f</td>\n",
       "    </tr>\n",
       "    <tr>\n",
       "      <th>4</th>\n",
       "      <td>11 Hanover Greek</td>\n",
       "      <td>Greek Restaurant</td>\n",
       "      <td>11 Hanover Sq</td>\n",
       "      <td>NaN</td>\n",
       "      <td>40.705171</td>\n",
       "      <td>-74.009034</td>\n",
       "      <td>[{'label': 'display', 'lat': 40.70517082398631...</td>\n",
       "      <td>212</td>\n",
       "      <td>10005</td>\n",
       "      <td>US</td>\n",
       "      <td>New York</td>\n",
       "      <td>NY</td>\n",
       "      <td>United States</td>\n",
       "      <td>[11 Hanover Sq, New York, NY 10005, United Sta...</td>\n",
       "      <td>5823d69af2c98b32f07ac65a</td>\n",
       "    </tr>\n",
       "    <tr>\n",
       "      <th>5</th>\n",
       "      <td>Absolute Greek Food Truck</td>\n",
       "      <td>Food Truck</td>\n",
       "      <td>NaN</td>\n",
       "      <td>NaN</td>\n",
       "      <td>40.704205</td>\n",
       "      <td>-74.008698</td>\n",
       "      <td>[{'label': 'display', 'lat': 40.70420476161008...</td>\n",
       "      <td>324</td>\n",
       "      <td>NaN</td>\n",
       "      <td>US</td>\n",
       "      <td>New York</td>\n",
       "      <td>NY</td>\n",
       "      <td>United States</td>\n",
       "      <td>[New York, NY, United States]</td>\n",
       "      <td>53a458ff498e1d1f0bdd3447</td>\n",
       "    </tr>\n",
       "  </tbody>\n",
       "</table>\n",
       "</div>"
      ],
      "text/plain": [
       "                                                name        categories  \\\n",
       "0               GRK Fresh Greek - Financial District  Greek Restaurant   \n",
       "1                                Ehhnviko Greek Cart              None   \n",
       "2                            Greek From Greece (GFG)            Bakery   \n",
       "3  Saint Nicholas Greek Orthodox Church and Natio...            Church   \n",
       "4                                   11 Hanover Greek  Greek Restaurant   \n",
       "5                          Absolute Greek Food Truck        Food Truck   \n",
       "\n",
       "          address  crossStreet        lat        lng  \\\n",
       "0   111 Fulton St  at Dutch St  40.709800 -74.007011   \n",
       "1     Wall Street      William  40.706771 -74.010098   \n",
       "2        Broadway    Morris St  40.705935 -74.013091   \n",
       "3  130 Liberty St          NaN  40.710384 -74.014030   \n",
       "4   11 Hanover Sq          NaN  40.705171 -74.009034   \n",
       "5             NaN          NaN  40.704205 -74.008698   \n",
       "\n",
       "                                      labeledLatLngs  distance postalCode  cc  \\\n",
       "0  [{'label': 'display', 'lat': 40.7097995488229,...       381      10038  US   \n",
       "1  [{'label': 'display', 'lat': 40.70677067580161...        45      10005  US   \n",
       "2  [{'label': 'display', 'lat': 40.705935, 'lng':...       313      10004  US   \n",
       "3  [{'label': 'display', 'lat': 40.71038436889648...       525      10006  US   \n",
       "4  [{'label': 'display', 'lat': 40.70517082398631...       212      10005  US   \n",
       "5  [{'label': 'display', 'lat': 40.70420476161008...       324        NaN  US   \n",
       "\n",
       "       city state        country  \\\n",
       "0  New York    NY  United States   \n",
       "1  New York    NY  United States   \n",
       "2  New York    NY  United States   \n",
       "3  New York    NY  United States   \n",
       "4  New York    NY  United States   \n",
       "5  New York    NY  United States   \n",
       "\n",
       "                                    formattedAddress                        id  \n",
       "0  [111 Fulton St (at Dutch St), New York, NY 100...  5047c785e4b0bcc0f416cdb3  \n",
       "1  [Wall Street (William), New York, NY 10005, Un...  4e00db2222717718d39ea62f  \n",
       "2  [Broadway (Morris St), New York, NY 10004, Uni...  5c1be093121384002c345bbf  \n",
       "3  [130 Liberty St, New York, NY 10006, United St...  57ea9dab498e634b49d5663f  \n",
       "4  [11 Hanover Sq, New York, NY 10005, United Sta...  5823d69af2c98b32f07ac65a  \n",
       "5                      [New York, NY, United States]  53a458ff498e1d1f0bdd3447  "
      ]
     },
     "execution_count": 27,
     "metadata": {},
     "output_type": "execute_result"
    }
   ],
   "source": [
    "# keep only columns that include venue name, and anything that is associated with location\n",
    "filtered_columns = ['name', 'categories'] + [col for col in dataframe.columns if col.startswith('location.')] + ['id']\n",
    "dataframe_filtered = dataframe.loc[:, filtered_columns]\n",
    "\n",
    "# function that extracts the category of the venue\n",
    "def get_category_type(row):\n",
    "    try:\n",
    "        categories_list = row['categories']\n",
    "    except:\n",
    "        categories_list = row['venue.categories']\n",
    "        \n",
    "    if len(categories_list) == 0:\n",
    "        return None\n",
    "    else:\n",
    "        return categories_list[0]['name']\n",
    "\n",
    "# filter the category for each row\n",
    "dataframe_filtered['categories'] = dataframe_filtered.apply(get_category_type, axis=1)\n",
    "\n",
    "# clean column names by keeping only last term\n",
    "dataframe_filtered.columns = [column.split('.')[-1] for column in dataframe_filtered.columns]\n",
    "\n",
    "dataframe_filtered"
   ]
  },
  {
   "cell_type": "code",
   "execution_count": 28,
   "metadata": {},
   "outputs": [
    {
     "data": {
      "text/plain": [
       "0                 GRK Fresh Greek - Financial District\n",
       "1                                  Ehhnviko Greek Cart\n",
       "2                              Greek From Greece (GFG)\n",
       "3    Saint Nicholas Greek Orthodox Church and Natio...\n",
       "4                                     11 Hanover Greek\n",
       "5                            Absolute Greek Food Truck\n",
       "Name: name, dtype: object"
      ]
     },
     "execution_count": 28,
     "metadata": {},
     "output_type": "execute_result"
    }
   ],
   "source": [
    "dataframe_filtered.name"
   ]
  },
  {
   "cell_type": "markdown",
   "metadata": {},
   "source": [
    "### Let's visualize the Greek restaurants that are nearby"
   ]
  },
  {
   "cell_type": "code",
   "execution_count": 29,
   "metadata": {},
   "outputs": [
    {
     "data": {
      "text/html": [
       "<div style=\"width:100%;\"><div style=\"position:relative;width:100%;height:0;padding-bottom:60%;\"><span style=\"color:#565656\">Make this Notebook Trusted to load map: File -> Trust Notebook</span><iframe src=\"about:blank\" style=\"position:absolute;width:100%;height:100%;left:0;top:0;border:none !important;\" data-html=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 onload=\"this.contentDocument.open();this.contentDocument.write(atob(this.getAttribute('data-html')));this.contentDocument.close();\" allowfullscreen webkitallowfullscreen mozallowfullscreen></iframe></div></div>"
      ],
      "text/plain": [
       "<folium.folium.Map at 0x7fdff37d0470>"
      ]
     },
     "execution_count": 29,
     "metadata": {},
     "output_type": "execute_result"
    }
   ],
   "source": [
    "venues_map = folium.Map(location=[latitude, longitude], zoom_start=13) # generate map centred around the Conrad Hotel\n",
    "\n",
    "# add a red circle marker to represent the Heffner Agency\n",
    "folium.features.CircleMarker(\n",
    "    [latitude, longitude],\n",
    "    radius=10,\n",
    "    color='red',\n",
    "    popup='Conrad Hotel',\n",
    "    fill = True,\n",
    "    fill_color = 'red',\n",
    "    fill_opacity = 0.6\n",
    ").add_to(venues_map)\n",
    "\n",
    "# add the Greek restaurants as blue circle markers\n",
    "for lat, lng, label in zip(dataframe_filtered.lat, dataframe_filtered.lng, dataframe_filtered.categories):\n",
    "    folium.features.CircleMarker(\n",
    "        [lat, lng],\n",
    "        radius=5,\n",
    "        color='blue',\n",
    "        popup=label,\n",
    "        fill = True,\n",
    "        fill_color='blue',\n",
    "        fill_opacity=0.6\n",
    "    ).add_to(venues_map)\n",
    "\n",
    "# display map\n",
    "venues_map"
   ]
  },
  {
   "cell_type": "markdown",
   "metadata": {},
   "source": [
    "### Get the venue's overall rating"
   ]
  },
  {
   "cell_type": "code",
   "execution_count": 30,
   "metadata": {},
   "outputs": [
    {
     "name": "stdout",
     "output_type": "stream",
     "text": [
      "7.8\n"
     ]
    }
   ],
   "source": [
    "venue_id = '5047c785e4b0bcc0f416cdb3' # ID of GRK Fresh Greek Restaurant\n",
    "url = 'https://api.foursquare.com/v2/venues/{}?client_id={}&client_secret={}&v={}'.format(venue_id, CLIENT_ID, CLIENT_SECRET, VERSION)\n",
    "\n",
    "result = requests.get(url).json()\n",
    "try:\n",
    "    print(result['response']['venue']['rating'])\n",
    "except:\n",
    "    print('This venue has not been rated yet.')"
   ]
  },
  {
   "cell_type": "code",
   "execution_count": 31,
   "metadata": {},
   "outputs": [
    {
     "name": "stdout",
     "output_type": "stream",
     "text": [
      "This venue has not been rated yet.\n"
     ]
    }
   ],
   "source": [
    "venue_id = '4e00db2222717718d39ea62f' # ID of Ehhnviko Greek Cart Restaurant\n",
    "url = 'https://api.foursquare.com/v2/venues/{}?client_id={}&client_secret={}&v={}'.format(venue_id, CLIENT_ID, CLIENT_SECRET, VERSION)\n",
    "\n",
    "result = requests.get(url).json()\n",
    "try:\n",
    "    print(result['response']['venue']['rating'])\n",
    "except:\n",
    "    print('This venue has not been rated yet.')"
   ]
  },
  {
   "cell_type": "code",
   "execution_count": 32,
   "metadata": {},
   "outputs": [
    {
     "name": "stdout",
     "output_type": "stream",
     "text": [
      "6.6\n"
     ]
    }
   ],
   "source": [
    "venue_id = '5c1be093121384002c345bbf' # ID of Greek From Greece Restaurant\n",
    "url = 'https://api.foursquare.com/v2/venues/{}?client_id={}&client_secret={}&v={}'.format(venue_id, CLIENT_ID, CLIENT_SECRET, VERSION)\n",
    "\n",
    "result = requests.get(url).json()\n",
    "try:\n",
    "    print(result['response']['venue']['rating'])\n",
    "except:\n",
    "    print('This venue has not been rated yet.')"
   ]
  },
  {
   "cell_type": "code",
   "execution_count": 33,
   "metadata": {},
   "outputs": [
    {
     "name": "stdout",
     "output_type": "stream",
     "text": [
      "This venue has not been rated yet.\n"
     ]
    }
   ],
   "source": [
    "venue_id = '57ea9dab498e634b49d5663f' # ID of Saint Nicholas Greek Orthodox Church Restaurant\n",
    "url = 'https://api.foursquare.com/v2/venues/{}?client_id={}&client_secret={}&v={}'.format(venue_id, CLIENT_ID, CLIENT_SECRET, VERSION)\n",
    "\n",
    "result = requests.get(url).json()\n",
    "try:\n",
    "    print(result['response']['venue']['rating'])\n",
    "except:\n",
    "    print('This venue has not been rated yet.')"
   ]
  },
  {
   "cell_type": "code",
   "execution_count": 34,
   "metadata": {},
   "outputs": [
    {
     "name": "stdout",
     "output_type": "stream",
     "text": [
      "5.6\n"
     ]
    }
   ],
   "source": [
    "venue_id = '5823d69af2c98b32f07ac65a' # ID of 11 Hanover Greek Restaurant\n",
    "url = 'https://api.foursquare.com/v2/venues/{}?client_id={}&client_secret={}&v={}'.format(venue_id, CLIENT_ID, CLIENT_SECRET, VERSION)\n",
    "\n",
    "result = requests.get(url).json()\n",
    "try:\n",
    "    print(result['response']['venue']['rating'])\n",
    "except:\n",
    "    print('This venue has not been rated yet.')"
   ]
  },
  {
   "cell_type": "code",
   "execution_count": 35,
   "metadata": {},
   "outputs": [
    {
     "name": "stdout",
     "output_type": "stream",
     "text": [
      "This venue has not been rated yet.\n"
     ]
    }
   ],
   "source": [
    "venue_id = '53a458ff498e1d1f0bdd3447' # ID of Absolute Greek Food Truck Restaurant\n",
    "url = 'https://api.foursquare.com/v2/venues/{}?client_id={}&clienAbsolute Greek Food Truck\n",
    "result = requests.get(url).json()\n",
    "try:\n",
    "    print(result['response']['venue']['rating'])\n",
    "except:\n",
    "    print('This venue has not been rated yet.')"
   ]
  },
  {
   "cell_type": "code",
   "execution_count": null,
   "metadata": {},
   "outputs": [],
   "source": []
  }
 ],
 "metadata": {
  "kernelspec": {
   "display_name": "Python",
   "language": "python",
   "name": "conda-env-python-py"
  },
  "language_info": {
   "codemirror_mode": {
    "name": "ipython",
    "version": 3
   },
   "file_extension": ".py",
   "mimetype": "text/x-python",
   "name": "python",
   "nbconvert_exporter": "python",
   "pygments_lexer": "ipython3",
   "version": "3.6.10"
  }
 },
 "nbformat": 4,
 "nbformat_minor": 4
}
